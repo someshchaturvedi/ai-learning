{
 "cells": [
  {
   "cell_type": "code",
   "execution_count": 1,
   "metadata": {},
   "outputs": [],
   "source": [
    "import numpy as np\n",
    "from sklearn import datasets\n",
    "%config IPCompleter.greedy=True"
   ]
  },
  {
   "cell_type": "code",
   "execution_count": 21,
   "metadata": {},
   "outputs": [
    {
     "name": "stdout",
     "output_type": "stream",
     "text": [
      "[0.73105858 0.88079708 0.95257413 0.00669285 0.98201379] [1 2 3 0 4] [0.19661193 0.10499359 0.04517666 0.00664806 0.01766271] [1 1 1 0 1]\n"
     ]
    }
   ],
   "source": [
    "def sigmoid(x):\n",
    "    x = np.dot(x, -1)\n",
    "    return 1/(np.exp(x) + 1)\n",
    "\n",
    "def relu(x):\n",
    "    return np.maximum(x, 0)\n",
    "\n",
    "def sigmoid_derivative(x):\n",
    "    sig_x = sigmoid(x)\n",
    "    return sig_x*(1-sig_x)\n",
    "\n",
    "def relu_derivative(x):\n",
    "    y = x\n",
    "    y[x>=0] = 1\n",
    "    y[y<0] = 0\n",
    "    return y\n"
   ]
  },
  {
   "cell_type": "code",
   "execution_count": 4,
   "metadata": {},
   "outputs": [],
   "source": [
    "iris = datasets.load_iris()"
   ]
  },
  {
   "cell_type": "code",
   "execution_count": 261,
   "metadata": {},
   "outputs": [],
   "source": [
    "def initialize_params(l_dims, b_with_zero, m):\n",
    "    W = []\n",
    "    B = []\n",
    "    for i in range(1, len(l_dims)):\n",
    "        w = np.random.randn(l_dims[i], l_dims[i-1])*0.01\n",
    "        if b_with_zero:\n",
    "            b = np.zeros((l_dims[i], 1))\n",
    "        else:\n",
    "            b = np.random.randn(l_dims[i], 1)*0.01\n",
    "        W.append(w)\n",
    "        B.append(b)\n",
    "    params = {\n",
    "        'W': W,\n",
    "        'B': B\n",
    "    }\n",
    "    return params"
   ]
  },
  {
   "cell_type": "code",
   "execution_count": 262,
   "metadata": {},
   "outputs": [],
   "source": [
    "def forward(X, params):\n",
    "    caches = []\n",
    "    A = X\n",
    "    L = len(l_dims)\n",
    "    for l in range(1, L):\n",
    "        W = params['W'][l-1]\n",
    "        B = params['B'][l-1]\n",
    "        Z = np.dot(W, A) + B\n",
    "        \n",
    "        if l == L - 1:\n",
    "            A = sigmoid(Z)\n",
    "        else:\n",
    "            A = relu(Z)\n",
    "        caches.append((Z, A))\n",
    "    return A, caches"
   ]
  },
  {
   "cell_type": "code",
   "execution_count": 263,
   "metadata": {},
   "outputs": [],
   "source": [
    "def cost(A, Y, m):\n",
    "    log_A = np.log(A)\n",
    "    x = np.dot(Y, log_A) + np.dot((1-Y), (1-log_A))\n",
    "    return -x/m"
   ]
  },
  {
   "cell_type": "code",
   "execution_count": 264,
   "metadata": {},
   "outputs": [],
   "source": [
    "def backward(dA, caches, params, l_dims, m, alpha=0.0075):\n",
    "    L = len(l_dims)\n",
    "    for l in reversed(range(L)):\n",
    "        if l ==0 :\n",
    "            continue\n",
    "        if l == L-1:\n",
    "            derivative = sigmoid_derivative\n",
    "        else:\n",
    "            derivative = relu_derivative\n",
    "        \n",
    "        Z = caches[l-1][0]\n",
    "        A_prev = caches[l-2][1]\n",
    "        dZ = dA*derivative(Z)\n",
    "        dW = np.dot(dZ, A_prev.T) / m\n",
    "        dB = np.sum(dZ, axis=1, keepdims=True)/m\n",
    "        dA = np.dot(params['W'][l-1].T, dZ)\n",
    "        params['W'][l-1] = params['W'][l-1] - alpha*dW\n",
    "        params['B'][l-1] = params['B'][l-1] - alpha*dB\n",
    "    return True"
   ]
  },
  {
   "cell_type": "code",
   "execution_count": 271,
   "metadata": {},
   "outputs": [],
   "source": [
    "def train(x_train, y_train, l_dims, params, v = 300):\n",
    "    costs = []\n",
    "    for i in range(iter_num):\n",
    "        A, caches = forward(x_train, params)\n",
    "        costs.append(cost(A.T, y_train.T, x_train.shape[1]))\n",
    "        dA = y_train - A[0].reshape(A.shape[1], 1)\n",
    "        backward(dA.T, caches, params,  l_dims,x_train.shape[0])\n",
    "    return costs"
   ]
  },
  {
   "cell_type": "code",
   "execution_count": 289,
   "metadata": {},
   "outputs": [
    {
     "name": "stdout",
     "output_type": "stream",
     "text": [
      "[array([[-0.65908373]]), array([[-0.6589587]]), array([[-0.6588329]]), array([[-0.65870634]]), array([[-0.658579]]), array([[-0.65845089]]), array([[-0.65832201]]), array([[-0.65819235]]), array([[-0.65806191]]), array([[-0.65793068]]), array([[-0.65779867]]), array([[-0.65766586]]), array([[-0.65753226]]), array([[-0.65739786]]), array([[-0.65726266]]), array([[-0.65712665]]), array([[-0.65698983]]), array([[-0.65685221]]), array([[-0.65671376]]), array([[-0.6565745]]), array([[-0.65643442]]), array([[-0.65629351]]), array([[-0.65615178]]), array([[-0.65600922]]), array([[-0.65586582]]), array([[-0.65572158]]), array([[-0.65557651]]), array([[-0.65543059]]), array([[-0.65528382]]), array([[-0.65513621]]), array([[-0.65498775]]), array([[-0.65483843]]), array([[-0.65468825]]), array([[-0.65453721]]), array([[-0.65438531]]), array([[-0.65423254]]), array([[-0.65407891]]), array([[-0.6539244]]), array([[-0.65376902]]), array([[-0.65361276]]), array([[-0.65345562]]), array([[-0.6532976]]), array([[-0.6531387]]), array([[-0.65297891]]), array([[-0.65281824]]), array([[-0.65265667]]), array([[-0.6524942]]), array([[-0.65233085]]), array([[-0.65216659]]), array([[-0.65200143]]), array([[-0.65183538]]), array([[-0.65166841]]), array([[-0.65150055]]), array([[-0.65133177]]), array([[-0.65116209]]), array([[-0.65099149]]), array([[-0.65081998]]), array([[-0.65064756]]), array([[-0.65047422]]), array([[-0.65029996]]), array([[-0.65012478]]), array([[-0.64994868]]), array([[-0.64977167]]), array([[-0.64959372]]), array([[-0.64941486]]), array([[-0.64923507]]), array([[-0.64905435]]), array([[-0.64887271]]), array([[-0.64869014]]), array([[-0.64850664]]), array([[-0.64832222]]), array([[-0.64813686]]), array([[-0.64795057]]), array([[-0.64776336]]), array([[-0.64757521]]), array([[-0.64738614]]), array([[-0.64719613]]), array([[-0.6470052]]), array([[-0.64681333]]), array([[-0.64662053]]), array([[-0.64642681]]), array([[-0.64623216]]), array([[-0.64603657]]), array([[-0.64584006]]), array([[-0.64564263]]), array([[-0.64544427]]), array([[-0.64524498]]), array([[-0.64504477]]), array([[-0.64484364]]), array([[-0.64464159]]), array([[-0.64443862]]), array([[-0.64423473]]), array([[-0.64402993]]), array([[-0.64382421]]), array([[-0.64361758]]), array([[-0.64341004]]), array([[-0.6432016]]), array([[-0.64299225]]), array([[-0.642782]]), array([[-0.64257085]]), array([[-0.64235881]]), array([[-0.64214587]]), array([[-0.64193204]]), array([[-0.64171733]]), array([[-0.64150173]]), array([[-0.64128526]]), array([[-0.64106791]]), array([[-0.64084969]]), array([[-0.6406306]]), array([[-0.64041065]]), array([[-0.64018984]]), array([[-0.63996818]]), array([[-0.63974567]]), array([[-0.63952232]]), array([[-0.63929813]]), array([[-0.6390731]]), array([[-0.63884725]]), array([[-0.63862058]]), array([[-0.63839309]]), array([[-0.63816479]]), array([[-0.63793568]]), array([[-0.63770578]]), array([[-0.63747509]]), array([[-0.63724361]]), array([[-0.63701136]]), array([[-0.63677834]]), array([[-0.63654455]]), array([[-0.63631001]]), array([[-0.63607472]]), array([[-0.63583869]]), array([[-0.63560193]]), array([[-0.63536445]]), array([[-0.63512625]]), array([[-0.63488735]]), array([[-0.63464775]]), array([[-0.63440745]]), array([[-0.63416648]]), array([[-0.63392484]]), array([[-0.63368254]]), array([[-0.63343959]]), array([[-0.633196]]), array([[-0.63295177]]), array([[-0.63270693]]), array([[-0.63246148]]), array([[-0.63221542]]), array([[-0.63196878]]), array([[-0.63172156]]), array([[-0.63147377]]), array([[-0.63122543]]), array([[-0.63097655]]), array([[-0.63072714]]), array([[-0.6304772]]), array([[-0.63022676]]), array([[-0.62997582]]), array([[-0.6297244]]), array([[-0.62947251]]), array([[-0.62922017]]), array([[-0.62896738]]), array([[-0.62871416]]), array([[-0.62846052]]), array([[-0.62820648]]), array([[-0.62795205]]), array([[-0.62769724]]), array([[-0.62744207]]), array([[-0.62718655]]), array([[-0.6269307]]), array([[-0.62667452]]), array([[-0.62641805]]), array([[-0.62616128]]), array([[-0.62590424]]), array([[-0.62564693]]), array([[-0.62538939]]), array([[-0.62513161]]), array([[-0.62487362]]), array([[-0.62461542]]), array([[-0.62435705]]), array([[-0.62409851]]), array([[-0.62383981]]), array([[-0.62358098]]), array([[-0.62332203]]), array([[-0.62306298]]), array([[-0.62280384]]), array([[-0.62254463]]), array([[-0.62228536]]), array([[-0.62202606]]), array([[-0.62176673]]), array([[-0.6215074]]), array([[-0.62124808]]), array([[-0.62098879]]), array([[-0.62072954]]), array([[-0.62047035]]), array([[-0.62021125]]), array([[-0.61995224]]), array([[-0.61969334]]), array([[-0.61943457]]), array([[-0.61917594]]), array([[-0.61891748]]), array([[-0.6186592]]), array([[-0.61840112]]), array([[-0.61814325]]), array([[-0.61788561]]), array([[-0.61762822]]), array([[-0.6173711]]), array([[-0.61711425]]), array([[-0.6168577]]), array([[-0.61660147]]), array([[-0.61634557]]), array([[-0.61609002]]), array([[-0.61583484]]), array([[-0.61558003]]), array([[-0.61532562]]), array([[-0.61507163]]), array([[-0.61481807]]), array([[-0.61456495]]), array([[-0.6143123]]), array([[-0.61406013]]), array([[-0.61380845]]), array([[-0.61355728]]), array([[-0.61330664]]), array([[-0.61305654]]), array([[-0.61280699]]), array([[-0.61255802]]), array([[-0.61230964]]), array([[-0.61206186]]), array([[-0.61181469]]), array([[-0.61156816]]), array([[-0.61132227]]), array([[-0.61107705]]), array([[-0.6108325]]), array([[-0.61058863]]), array([[-0.61034547]]), array([[-0.61010303]]), array([[-0.60986132]]), array([[-0.60962035]]), array([[-0.60938013]]), array([[-0.60914069]]), array([[-0.60890202]]), array([[-0.60866415]]), array([[-0.60842709]]), array([[-0.60819084]]), array([[-0.60795542]]), array([[-0.60772085]]), array([[-0.60748713]]), array([[-0.60725427]]), array([[-0.60702229]]), array([[-0.60679119]]), array([[-0.60656099]]), array([[-0.60633169]]), array([[-0.60610332]]), array([[-0.60587586]])]\n"
     ]
    }
   ],
   "source": [
    "data = iris.data[:100]\n",
    "target = iris.target[:100]\n",
    "def unison_shuffled_copies(a, b):\n",
    "    assert len(a) == len(b)\n",
    "    p = np.random.permutation(len(a))\n",
    "    return a[p], b[p]\n",
    "data, target = unison_shuffled_copies(data, target)\n",
    "\n",
    "x_train = np.array(data[:60])\n",
    "y_train = np.array(target[:60]).reshape(60, 1)\n",
    "x_test = np.array(data[61:])\n",
    "y_test = np.array(target[61:]).reshape(39, 1)\n",
    "m = x_train.shape[0]\n",
    "\n",
    "l_dims = [x_train.shape[1],4, 3, 1]\n",
    "params = initialize_params(l_dims, True, x_train.shape[1])\n",
    "costs = train(x_train.T, y_train, l_dims, params, iter_num=250)\n",
    "\n",
    "print(costs)\n",
    "\n",
    "A, caches = forward(x_test.T, params)\n"
   ]
  },
  {
   "cell_type": "code",
   "execution_count": null,
   "metadata": {},
   "outputs": [],
   "source": []
  },
  {
   "cell_type": "code",
   "execution_count": null,
   "metadata": {},
   "outputs": [],
   "source": []
  }
 ],
 "metadata": {
  "kernelspec": {
   "display_name": "Python 3",
   "language": "python",
   "name": "python3"
  },
  "language_info": {
   "codemirror_mode": {
    "name": "ipython",
    "version": 3
   },
   "file_extension": ".py",
   "mimetype": "text/x-python",
   "name": "python",
   "nbconvert_exporter": "python",
   "pygments_lexer": "ipython3",
   "version": "3.8.2"
  }
 },
 "nbformat": 4,
 "nbformat_minor": 4
}
